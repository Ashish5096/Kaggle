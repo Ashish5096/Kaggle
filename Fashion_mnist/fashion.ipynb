{
 "cells": [
  {
   "cell_type": "code",
   "execution_count": 0,
   "metadata": {
    "colab": {},
    "colab_type": "code",
    "id": "KSGWDnRS0s_R"
   },
   "outputs": [],
   "source": [
    "import tensorflow as tf\n",
    "from tensorflow.keras import datasets\n",
    "from tensorflow.keras.models import Sequential \n",
    "from tensorflow.keras.layers import Dense, Conv2D, Flatten, Dropout,MaxPool2D\n",
    "from keras.utils import np_utils\n",
    "import matplotlib.pyplot as plt\n",
    "import numpy as np\n",
    "from sklearn.metrics import classification_report"
   ]
  },
  {
   "cell_type": "code",
   "execution_count": 0,
   "metadata": {
    "colab": {
     "base_uri": "https://localhost:8080/",
     "height": 161
    },
    "colab_type": "code",
    "id": "lqBLJT2l70Ud",
    "outputId": "d21e99dc-a8ec-4240-af46-1f575f78d929"
   },
   "outputs": [
    {
     "name": "stdout",
     "output_type": "stream",
     "text": [
      "Downloading data from https://storage.googleapis.com/tensorflow/tf-keras-datasets/train-labels-idx1-ubyte.gz\n",
      "32768/29515 [=================================] - 0s 0us/step\n",
      "Downloading data from https://storage.googleapis.com/tensorflow/tf-keras-datasets/train-images-idx3-ubyte.gz\n",
      "26427392/26421880 [==============================] - 0s 0us/step\n",
      "Downloading data from https://storage.googleapis.com/tensorflow/tf-keras-datasets/t10k-labels-idx1-ubyte.gz\n",
      "8192/5148 [===============================================] - 0s 0us/step\n",
      "Downloading data from https://storage.googleapis.com/tensorflow/tf-keras-datasets/t10k-images-idx3-ubyte.gz\n",
      "4423680/4422102 [==============================] - 0s 0us/step\n"
     ]
    }
   ],
   "source": [
    "((trainX,trainY),(testX,testY))=datasets.fashion_mnist.load_data()"
   ]
  },
  {
   "cell_type": "code",
   "execution_count": 0,
   "metadata": {
    "colab": {
     "base_uri": "https://localhost:8080/",
     "height": 35
    },
    "colab_type": "code",
    "id": "j1F4g64M8dqV",
    "outputId": "b29a0609-7a18-4fab-fd78-340e2d74653d"
   },
   "outputs": [
    {
     "name": "stdout",
     "output_type": "stream",
     "text": [
      "(60000, 28, 28)\n"
     ]
    }
   ],
   "source": [
    "trainX = trainX.astype(\"float32\") / 255.0\n",
    "testX = testX.astype(\"float32\") / 255.0\n",
    "print(trainX.shape)"
   ]
  },
  {
   "cell_type": "code",
   "execution_count": 0,
   "metadata": {
    "colab": {
     "base_uri": "https://localhost:8080/",
     "height": 53
    },
    "colab_type": "code",
    "id": "8T6fEiE48m7b",
    "outputId": "e70b46f6-7f1d-4d49-ddef-415fa1853155"
   },
   "outputs": [
    {
     "name": "stdout",
     "output_type": "stream",
     "text": [
      "(60000, 28, 28, 1)\n",
      "(10000, 28, 28, 1)\n"
     ]
    }
   ],
   "source": [
    "trainX = trainX.reshape(trainX.shape[0],28,28,1)\n",
    "testX = testX.reshape(testX.shape[0],28,28,1)\n",
    "print(trainX.shape)\n",
    "print(testX.shape)"
   ]
  },
  {
   "cell_type": "code",
   "execution_count": 0,
   "metadata": {
    "colab": {
     "base_uri": "https://localhost:8080/",
     "height": 215
    },
    "colab_type": "code",
    "id": "ppSCoJq29OzO",
    "outputId": "6f52823a-c529-464f-e0be-4c29415209a7"
   },
   "outputs": [
    {
     "name": "stdout",
     "output_type": "stream",
     "text": [
      "[9 0 0 3 0 2 7 2 5 5]\n",
      "[[0. 0. 0. 0. 0. 0. 0. 0. 0. 1.]\n",
      " [1. 0. 0. 0. 0. 0. 0. 0. 0. 0.]\n",
      " [1. 0. 0. 0. 0. 0. 0. 0. 0. 0.]\n",
      " [0. 0. 0. 1. 0. 0. 0. 0. 0. 0.]\n",
      " [1. 0. 0. 0. 0. 0. 0. 0. 0. 0.]\n",
      " [0. 0. 1. 0. 0. 0. 0. 0. 0. 0.]\n",
      " [0. 0. 0. 0. 0. 0. 0. 1. 0. 0.]\n",
      " [0. 0. 1. 0. 0. 0. 0. 0. 0. 0.]\n",
      " [0. 0. 0. 0. 0. 1. 0. 0. 0. 0.]\n",
      " [0. 0. 0. 0. 0. 1. 0. 0. 0. 0.]]\n"
     ]
    }
   ],
   "source": [
    "print(trainY[:10])\n",
    "trainY = np_utils.to_categorical(trainY,10)\n",
    "testY = np_utils.to_categorical(testY,10)\n",
    "print(trainY[:10])"
   ]
  },
  {
   "cell_type": "code",
   "execution_count": 0,
   "metadata": {
    "colab": {},
    "colab_type": "code",
    "id": "Cwse8zd-8x3Q"
   },
   "outputs": [],
   "source": [
    "IMG_HEIGHT = 28\n",
    "IMG_WIDTH = 28\n",
    "channels = 1\n",
    "classes = 10\n",
    "init_lr = 1e-2\n",
    "batch_size = 32\n",
    "input_shape=(IMG_HEIGHT,IMG_WIDTH,channels)\n",
    "labelNames = [\"top\", \"trouser\", \"pullover\", \"dress\", \"coat\",\"sandal\", \"shirt\", \"sneaker\", \"bag\", \"ankle boot\"]"
   ]
  },
  {
   "cell_type": "code",
   "execution_count": 0,
   "metadata": {
    "colab": {},
    "colab_type": "code",
    "id": "2GXwtUJu88Qg"
   },
   "outputs": [],
   "source": [
    "num_epochs=25"
   ]
  },
  {
   "cell_type": "code",
   "execution_count": 0,
   "metadata": {
    "colab": {},
    "colab_type": "code",
    "id": "b-jUmrKW9A-O"
   },
   "outputs": [],
   "source": [
    "model= Sequential()\n",
    "model.add(Conv2D(32,(3,3),activation=\"relu\",padding=\"same\",input_shape= input_shape))\n",
    "model.add(Conv2D(32,(3,3),activation=\"relu\",padding=\"same\"))\n",
    "model.add(MaxPool2D((2,2)))\n",
    "model.add(Dropout(0.25))\n",
    "\n",
    "model.add(Conv2D(64,(3,3),activation=\"relu\",padding=\"same\"))\n",
    "model.add(Conv2D(64,(3,3),activation=\"relu\",padding=\"same\"))\n",
    "model.add(MaxPool2D((2,2)))\n",
    "model.add(Dropout(0.25))\n",
    "\n",
    "model.add(Flatten())\n",
    "model.add(Dense(512 ,activation=\"relu\"))\n",
    "model.add(Dropout(0.5))\n",
    "\n",
    "model.add(Dense(classes, activation=\"softmax\"))"
   ]
  },
  {
   "cell_type": "code",
   "execution_count": 0,
   "metadata": {
    "colab": {
     "base_uri": "https://localhost:8080/",
     "height": 593
    },
    "colab_type": "code",
    "id": "Btb2NM_A9ZXG",
    "outputId": "ae1b0959-0dcd-4216-b381-7d7cf3c5d535"
   },
   "outputs": [
    {
     "name": "stdout",
     "output_type": "stream",
     "text": [
      "Model: \"sequential\"\n",
      "_________________________________________________________________\n",
      "Layer (type)                 Output Shape              Param #   \n",
      "=================================================================\n",
      "conv2d (Conv2D)              (None, 28, 28, 32)        320       \n",
      "_________________________________________________________________\n",
      "conv2d_1 (Conv2D)            (None, 28, 28, 32)        9248      \n",
      "_________________________________________________________________\n",
      "max_pooling2d (MaxPooling2D) (None, 14, 14, 32)        0         \n",
      "_________________________________________________________________\n",
      "dropout (Dropout)            (None, 14, 14, 32)        0         \n",
      "_________________________________________________________________\n",
      "conv2d_2 (Conv2D)            (None, 14, 14, 64)        18496     \n",
      "_________________________________________________________________\n",
      "conv2d_3 (Conv2D)            (None, 14, 14, 64)        36928     \n",
      "_________________________________________________________________\n",
      "max_pooling2d_1 (MaxPooling2 (None, 7, 7, 64)          0         \n",
      "_________________________________________________________________\n",
      "dropout_1 (Dropout)          (None, 7, 7, 64)          0         \n",
      "_________________________________________________________________\n",
      "flatten (Flatten)            (None, 3136)              0         \n",
      "_________________________________________________________________\n",
      "dense (Dense)                (None, 512)               1606144   \n",
      "_________________________________________________________________\n",
      "dropout_2 (Dropout)          (None, 512)               0         \n",
      "_________________________________________________________________\n",
      "dense_1 (Dense)              (None, 10)                5130      \n",
      "=================================================================\n",
      "Total params: 1,676,266\n",
      "Trainable params: 1,676,266\n",
      "Non-trainable params: 0\n",
      "_________________________________________________________________\n"
     ]
    }
   ],
   "source": [
    "model.summary()"
   ]
  },
  {
   "cell_type": "code",
   "execution_count": 0,
   "metadata": {
    "colab": {},
    "colab_type": "code",
    "id": "AYq_eWOE9cEy"
   },
   "outputs": [],
   "source": [
    "model.compile(optimizer='adam',loss=tf.keras.losses.SparseCategoricalCrossentropy,metrics=['accuracy'])"
   ]
  },
  {
   "cell_type": "code",
   "execution_count": 0,
   "metadata": {
    "colab": {},
    "colab_type": "code",
    "id": "q5eE-Shv_IpW"
   },
   "outputs": [],
   "source": [
    "model.compile(loss=\"categorical_crossentropy\", optimizer=\"adam\",metrics=[\"accuracy\"])"
   ]
  },
  {
   "cell_type": "code",
   "execution_count": 0,
   "metadata": {
    "colab": {
     "base_uri": "https://localhost:8080/",
     "height": 917
    },
    "colab_type": "code",
    "id": "B-HrR__E9eZk",
    "outputId": "0c7d74c1-58d5-4436-8201-bcac61c5da88"
   },
   "outputs": [
    {
     "name": "stdout",
     "output_type": "stream",
     "text": [
      "Epoch 1/25\n",
      "1875/1875 [==============================] - 20s 10ms/step - loss: 0.4311 - accuracy: 0.8420 - val_loss: 0.2876 - val_accuracy: 0.8943\n",
      "Epoch 2/25\n",
      "1875/1875 [==============================] - 18s 10ms/step - loss: 0.2815 - accuracy: 0.8962 - val_loss: 0.2378 - val_accuracy: 0.9080\n",
      "Epoch 3/25\n",
      "1875/1875 [==============================] - 18s 9ms/step - loss: 0.2439 - accuracy: 0.9100 - val_loss: 0.2259 - val_accuracy: 0.9160\n",
      "Epoch 4/25\n",
      "1875/1875 [==============================] - 18s 9ms/step - loss: 0.2234 - accuracy: 0.9184 - val_loss: 0.2079 - val_accuracy: 0.9222\n",
      "Epoch 5/25\n",
      "1875/1875 [==============================] - 18s 9ms/step - loss: 0.2085 - accuracy: 0.9229 - val_loss: 0.2167 - val_accuracy: 0.9223\n",
      "Epoch 6/25\n",
      "1875/1875 [==============================] - 18s 9ms/step - loss: 0.1933 - accuracy: 0.9272 - val_loss: 0.2024 - val_accuracy: 0.9267\n",
      "Epoch 7/25\n",
      "1875/1875 [==============================] - 18s 9ms/step - loss: 0.1860 - accuracy: 0.9304 - val_loss: 0.2014 - val_accuracy: 0.9245\n",
      "Epoch 8/25\n",
      "1875/1875 [==============================] - 18s 9ms/step - loss: 0.1762 - accuracy: 0.9351 - val_loss: 0.2059 - val_accuracy: 0.9276\n",
      "Epoch 9/25\n",
      "1875/1875 [==============================] - 18s 9ms/step - loss: 0.1699 - accuracy: 0.9367 - val_loss: 0.1976 - val_accuracy: 0.9293\n",
      "Epoch 10/25\n",
      "1875/1875 [==============================] - 18s 9ms/step - loss: 0.1603 - accuracy: 0.9408 - val_loss: 0.2060 - val_accuracy: 0.9307\n",
      "Epoch 11/25\n",
      "1875/1875 [==============================] - 18s 9ms/step - loss: 0.1524 - accuracy: 0.9432 - val_loss: 0.2019 - val_accuracy: 0.9337\n",
      "Epoch 12/25\n",
      "1875/1875 [==============================] - 18s 9ms/step - loss: 0.1501 - accuracy: 0.9438 - val_loss: 0.2134 - val_accuracy: 0.9286\n",
      "Epoch 13/25\n",
      "1875/1875 [==============================] - 18s 9ms/step - loss: 0.1442 - accuracy: 0.9470 - val_loss: 0.2199 - val_accuracy: 0.9302\n",
      "Epoch 14/25\n",
      "1875/1875 [==============================] - 18s 9ms/step - loss: 0.1401 - accuracy: 0.9479 - val_loss: 0.2170 - val_accuracy: 0.9317\n",
      "Epoch 15/25\n",
      "1875/1875 [==============================] - 18s 9ms/step - loss: 0.1326 - accuracy: 0.9507 - val_loss: 0.2121 - val_accuracy: 0.9342\n",
      "Epoch 16/25\n",
      "1875/1875 [==============================] - 18s 9ms/step - loss: 0.1353 - accuracy: 0.9498 - val_loss: 0.2022 - val_accuracy: 0.9322\n",
      "Epoch 17/25\n",
      "1875/1875 [==============================] - 18s 10ms/step - loss: 0.1294 - accuracy: 0.9511 - val_loss: 0.2154 - val_accuracy: 0.9304\n",
      "Epoch 18/25\n",
      "1875/1875 [==============================] - 18s 9ms/step - loss: 0.1291 - accuracy: 0.9515 - val_loss: 0.2325 - val_accuracy: 0.9308\n",
      "Epoch 19/25\n",
      "1875/1875 [==============================] - 17s 9ms/step - loss: 0.1218 - accuracy: 0.9553 - val_loss: 0.2074 - val_accuracy: 0.9348\n",
      "Epoch 20/25\n",
      "1875/1875 [==============================] - 17s 9ms/step - loss: 0.1239 - accuracy: 0.9544 - val_loss: 0.2156 - val_accuracy: 0.9329\n",
      "Epoch 21/25\n",
      "1875/1875 [==============================] - 17s 9ms/step - loss: 0.1187 - accuracy: 0.9564 - val_loss: 0.2216 - val_accuracy: 0.9338\n",
      "Epoch 22/25\n",
      "1875/1875 [==============================] - 17s 9ms/step - loss: 0.1198 - accuracy: 0.9553 - val_loss: 0.2248 - val_accuracy: 0.9349\n",
      "Epoch 23/25\n",
      "1875/1875 [==============================] - 17s 9ms/step - loss: 0.1176 - accuracy: 0.9568 - val_loss: 0.2089 - val_accuracy: 0.9344\n",
      "Epoch 24/25\n",
      "1875/1875 [==============================] - 17s 9ms/step - loss: 0.1159 - accuracy: 0.9572 - val_loss: 0.2292 - val_accuracy: 0.9329\n",
      "Epoch 25/25\n",
      "1875/1875 [==============================] - 17s 9ms/step - loss: 0.1152 - accuracy: 0.9582 - val_loss: 0.2291 - val_accuracy: 0.9356\n"
     ]
    }
   ],
   "source": [
    "history = model.fit(trainX, trainY,validation_data=(testX, testY),batch_size=batch_size, epochs= num_epochs)"
   ]
  },
  {
   "cell_type": "code",
   "execution_count": 0,
   "metadata": {
    "colab": {
     "base_uri": "https://localhost:8080/",
     "height": 299
    },
    "colab_type": "code",
    "id": "wZdyHEFB9krP",
    "outputId": "a0534703-ac51-4379-fcba-3a73625b2b7a"
   },
   "outputs": [
    {
     "data": {
      "image/png": "[encoded data removed]",
      "text/plain": [
       "<Figure size 432x288 with 1 Axes>"
      ]
     },
     "metadata": {
      "tags": []
     },
     "output_type": "display_data"
    }
   ],
   "source": [
    "N = num_epochs\n",
    "plt.style.use(\"ggplot\")\n",
    "plt.figure()\n",
    "plt.plot(np.arange(0, N), history.history[\"loss\"], label=\"train_loss\")\n",
    "plt.plot(np.arange(0, N), history.history[\"val_loss\"], label=\"val_loss\")\n",
    "plt.plot(np.arange(0, N), history.history[\"accuracy\"], label=\"train_acc\")\n",
    "plt.plot(np.arange(0, N), history.history[\"val_accuracy\"], label=\"val_acc\")\n",
    "plt.title(\"Training Loss and Accuracy on Dataset\")\n",
    "plt.xlabel(\"Epoch #\")\n",
    "plt.ylabel(\"Loss/Accuracy\")\n",
    "plt.legend(loc=\"lower left\")\n",
    "plt.show()"
   ]
  },
  {
   "cell_type": "code",
   "execution_count": 0,
   "metadata": {
    "colab": {},
    "colab_type": "code",
    "id": "fAopgQw69vwV"
   },
   "outputs": [],
   "source": [
    "preds= model.predict(testX)"
   ]
  },
  {
   "cell_type": "code",
   "execution_count": 0,
   "metadata": {
    "colab": {},
    "colab_type": "code",
    "id": "CIw-0fsFBetU"
   },
   "outputs": [],
   "source": [
    "print(preds[:3])"
   ]
  },
  {
   "cell_type": "code",
   "execution_count": 0,
   "metadata": {
    "colab": {},
    "colab_type": "code",
    "id": "nboQRqwuBiuP"
   },
   "outputs": [],
   "source": [
    "print(preds.argmax(axis=1))"
   ]
  },
  {
   "cell_type": "code",
   "execution_count": 0,
   "metadata": {
    "colab": {
     "base_uri": "https://localhost:8080/",
     "height": 323
    },
    "colab_type": "code",
    "id": "8YRylSLV-Awm",
    "outputId": "1cfd295a-00b1-4a93-cb6f-3ad3f2d61d34"
   },
   "outputs": [
    {
     "name": "stdout",
     "output_type": "stream",
     "text": [
      "              precision    recall  f1-score   support\n",
      "\n",
      "         top       0.88      0.89      0.89      1000\n",
      "     trouser       1.00      0.99      0.99      1000\n",
      "    pullover       0.91      0.90      0.91      1000\n",
      "       dress       0.93      0.96      0.95      1000\n",
      "        coat       0.89      0.91      0.90      1000\n",
      "      sandal       0.99      0.99      0.99      1000\n",
      "       shirt       0.82      0.78      0.80      1000\n",
      "     sneaker       0.97      0.98      0.97      1000\n",
      "         bag       0.99      0.99      0.99      1000\n",
      "  ankle boot       0.98      0.97      0.97      1000\n",
      "\n",
      "    accuracy                           0.94     10000\n",
      "   macro avg       0.94      0.94      0.94     10000\n",
      "weighted avg       0.94      0.94      0.94     10000\n",
      "\n"
     ]
    }
   ],
   "source": [
    "print(classification_report(testY.argmax(axis=1), preds.argmax(axis=1),target_names=labelNames))"
   ]
  }
 ],
 "metadata": {
  "accelerator": "GPU",
  "colab": {
   "collapsed_sections": [],
   "name": "fashion1.ipynb",
   "provenance": []
  },
  "kernelspec": {
   "display_name": "Python 3",
   "language": "python",
   "name": "python3"
  },
  "language_info": {
   "codemirror_mode": {
    "name": "ipython",
    "version": 3
   },
   "file_extension": ".py",
   "mimetype": "text/x-python",
   "name": "python",
   "nbconvert_exporter": "python",
   "pygments_lexer": "ipython3",
   "version": "3.7.7"
  }
 },
 "nbformat": 4,
 "nbformat_minor": 1
}
